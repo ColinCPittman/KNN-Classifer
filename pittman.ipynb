{
 "cells": [
  {
   "cell_type": "code",
   "execution_count": 1,
   "id": "dc518578-db9a-43a2-8dbb-a21c0f8e3b32",
   "metadata": {},
   "outputs": [],
   "source": [
    "import pandas as pd\n",
    "import heapq"
   ]
  },
  {
   "cell_type": "code",
   "execution_count": 2,
   "id": "a4ac0de5-f290-4060-8207-c1e492bba091",
   "metadata": {},
   "outputs": [],
   "source": [
    "def knn(k, filename='wdbc.data.mb.csv'):\n",
    "    predictions_results = []\n",
    "    dataframe = pd.read_csv(filename, header=None)\n",
    "    df_list = dataframe.values.tolist()\n",
    "    test_set, training_set = split_sets(df_list, 0.7)\n",
    "\n",
    "    if not test_set or not training_set:\n",
    "        return []\n",
    "\n",
    "    for i in range(len(test_set)):\n",
    "        test_item = test_set[i]\n",
    "        distances_heap = []\n",
    "\n",
    "        for j in range(len(training_set)):\n",
    "            training_item = training_set[j]\n",
    "            dist_value = compute_dist(test_item, training_item)\n",
    "            heapq.heappush(distances_heap, (dist_value, training_item))\n",
    "\n",
    "        neighbors = heapq.nsmallest(k, distances_heap)\n",
    "\n",
    "        malignant_count = 0\n",
    "        benign_count = 0\n",
    "        for dist, neighbor_item in neighbors:\n",
    "            if neighbor_item[-1] == 1:\n",
    "                malignant_count += 1\n",
    "            else:\n",
    "                benign_count += 1\n",
    "\n",
    "        classification = 1 if malignant_count >= benign_count else -1\n",
    "\n",
    "        actual_label = test_item[-1]\n",
    "        predictions_results.append(actual_label == classification)\n",
    "\n",
    "    return predictions_results"
   ]
  },
  {
   "cell_type": "code",
   "execution_count": null,
   "id": "a9d506f9-f0f0-42e2-af76-b793b0973660",
   "metadata": {},
   "outputs": [],
   "source": []
  }
 ],
 "metadata": {
  "kernelspec": {
   "display_name": "Python 3 (ipykernel)",
   "language": "python",
   "name": "python3"
  },
  "language_info": {
   "codemirror_mode": {
    "name": "ipython",
    "version": 3
   },
   "file_extension": ".py",
   "mimetype": "text/x-python",
   "name": "python",
   "nbconvert_exporter": "python",
   "pygments_lexer": "ipython3",
   "version": "3.11.3"
  }
 },
 "nbformat": 4,
 "nbformat_minor": 5
}
