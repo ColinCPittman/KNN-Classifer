{
 "cells": [
  {
   "cell_type": "markdown",
   "id": "0551149a",
   "metadata": {},
   "source": [
    "### Note: Ensure ```wdbc.data.mb.csv``` is in the same directory as this script or modify ```def knn``` parameters to specify the full path to the file"
   ]
  },
  {
   "cell_type": "code",
   "execution_count": null,
   "id": "dc518578-db9a-43a2-8dbb-a21c0f8e3b32",
   "metadata": {},
   "outputs": [],
   "source": [
    "import pandas as pd\n",
    "import heapq\n",
    "import math\n",
    "import random"
   ]
  },
  {
   "cell_type": "code",
   "execution_count": null,
   "id": "cb55aebf",
   "metadata": {},
   "outputs": [],
   "source": [
    "def split_sets(data_list, training_ratio):\n",
    "    data_copy = data_list.copy()\n",
    "    random.shuffle(data_copy)\n",
    "\n",
    "    split_index = int(len(data_copy) * training_ratio)\n",
    "    training_set = data_copy[:split_index]\n",
    "    test_set = data_copy[split_index:]\n",
    "\n",
    "    return training_set, test_set\n",
    "\n",
    "def compute_dist(testX, trainingX):\n",
    "    distance = 0\n",
    "    for i in range(len(testX) - 1):\n",
    "        distance += (testX[i] - trainingX[i]) ** 2\n",
    "    return math.sqrt(distance)\n",
    "\n",
    "def normalize_minmax(data_list): # min-max scaling\n",
    "    normalized_data = [row[:] for row in data_list]\n",
    "\n",
    "    for column in range(len(data_list[0]) - 1): # last column is the label\n",
    "        col_values = [row[column] for row in data_list]\n",
    "        minimum = min(col_values)\n",
    "        maximum = max(col_values)\n",
    "\n",
    "        if maximum == minimum: #this shouldn't arise in the current data set but it's possible that division by zero could crop up\n",
    "            for i in range(len(normalized_data)):\n",
    "                normalized_data[i][column] = 0.5\n",
    "        else:\n",
    "            for i in range(len(normalized_data)):\n",
    "                normalized_data[i][col] = (data_list[i][column] - minimum) / (maximum - minimum)\n",
    "\n",
    "    return normalized_data\n",
    "def print_confusion_matrix(knn_results):\n",
    "    true_positives = true_negatives = false_positives = false_negatives = 0\n",
    "\n",
    "    for pred, actual in knn_results:\n",
    "        if pred == 1 and actual == 1:\n",
    "            true_positives += 1\n",
    "        elif pred == -1 and actual == -1:\n",
    "            true_negatives += 1\n",
    "        elif pred == 1 and actual == -1:\n",
    "            false_positives += 1\n",
    "        elif pred == -1 and actual == 1:\n",
    "            false_negatives += 1\n",
    "\n",
    "    confusion_matrix = [[true_negatives, false_negatives], \n",
    "                       [false_positives, true_positives]] \n",
    "    \n",
    "    print(\"\\nConfusion Matrix:\\n          Actual\\n          Neg  Pos\")\n",
    "    print(\"Pred Neg   {}    {}\".format(confusion_matrix[0][0], confusion_matrix[0][1]))\n",
    "    print(\"     Pos   {}    {}\".format(confusion_matrix[1][0], confusion_matrix[1][1]))\n",
    "    print(\"\\nAccuracy = {:.2f}%\".format((true_positives + true_negatives) / len(knn_results) * 100))"
   ]
  },
  {
   "cell_type": "code",
   "execution_count": null,
   "id": "a4ac0de5-f290-4060-8207-c1e492bba091",
   "metadata": {},
   "outputs": [],
   "source": [
    "def knn(k=3, data_file=\"wdbc.data.mb.csv\"):\n",
    "    predictions = []\n",
    "\n",
    "    dataframe = pd.read_csv(data_file, header=None)\n",
    "    df_list = dataframe.values.tolist()\n",
    "\n",
    "    normalized_df = normalize_minmax(df_list)\n",
    "    training_set, test_set = split_sets(normalized_df, 0.7)\n",
    "\n",
    "    for test in test_set:\n",
    "        distances = []\n",
    "        for training_instance in training_set:\n",
    "            dist = compute_dist(test, training_instance)\n",
    "            heapq.heappush(distances, (dist, training_instance))\n",
    "\n",
    "        neighbors = heapq.nsmallest(k, distances)\n",
    "\n",
    "        malignant = 0\n",
    "        benign = 0\n",
    "        for dist, neighbor_instance in neighbors:\n",
    "            if neighbor_instance[-1] == 1:\n",
    "                malignant += 1\n",
    "            else:\n",
    "                benign += 1\n",
    "\n",
    "        classification = 1 if malignant >= benign else -1\n",
    "        predictions.append((classification, test[-1]))\n",
    "\n",
    "    return predictions"
   ]
  },
  {
   "cell_type": "code",
   "execution_count": null,
   "id": "a9d506f9-f0f0-42e2-af76-b793b0973660",
   "metadata": {},
   "outputs": [],
   "source": [
    "for i in range(1, 10, 2):\n",
    "    print(\"\\nK = {}\".format(i))\n",
    "    knn_results = knn(i)\n",
    "    print_confusion_matrix(knn_results)\n"
   ]
  },
  {
   "cell_type": "code",
   "execution_count": null,
   "id": "8ffbc8f5-d8a1-4848-b0cb-6b4177a99ba7",
   "metadata": {},
   "outputs": [],
   "source": []
  }
 ],
 "metadata": {
  "kernelspec": {
   "display_name": "Python 3 (ipykernel)",
   "language": "python",
   "name": "python3"
  },
  "language_info": {
   "codemirror_mode": {
    "name": "ipython",
    "version": 3
   },
   "file_extension": ".py",
   "mimetype": "text/x-python",
   "name": "python",
   "nbconvert_exporter": "python",
   "pygments_lexer": "ipython3",
   "version": "3.11.3"
  }
 },
 "nbformat": 4,
 "nbformat_minor": 5
}
