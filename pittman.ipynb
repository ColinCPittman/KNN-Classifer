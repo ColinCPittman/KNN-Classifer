{
 "cells": [
  {
   "cell_type": "code",
   "execution_count": 5,
   "id": "dc518578-db9a-43a2-8dbb-a21c0f8e3b32",
   "metadata": {},
   "outputs": [],
   "source": [
    "import pandas as pd\n",
    "import heapq\n",
    "import math\n",
    "import random"
   ]
  },
  {
   "cell_type": "code",
   "execution_count": 6,
   "id": "cb55aebf",
   "metadata": {},
   "outputs": [],
   "source": [
    "def split_sets(data_list, training_ratio):\n",
    "    data_copy = data_list.copy()\n",
    "    random.shuffle(data_copy)\n",
    "\n",
    "    split_index = int(len(data_copy) * training_ratio)\n",
    "    training_set = data_copy[:split_index]\n",
    "    test_set = data_copy[split_index:]\n",
    "\n",
    "    return training_set, test_set\n",
    "\n",
    "def compute_dist(instance1, instance2):\n",
    "    distance = 0\n",
    "    for i in range(len(instance1) - 1):\n",
    "        distance += (instance1[i] - instance2[i]) ** 2\n",
    "    return math.sqrt(distance)\n",
    "\n",
    "def normalize_minmax(data_list):\n",
    "    normalized_data = [row[:] for row in data_list]\n",
    "    num_features = len(data_list[0]) - 1\n",
    "\n",
    "    for col in range(num_features):\n",
    "        col_values = [row[col] for row in data_list]\n",
    "        min_val = min(col_values)\n",
    "        max_val = max(col_values)\n",
    "\n",
    "        if max_val == min_val:\n",
    "            for i in range(len(normalized_data)):\n",
    "                normalized_data[i][col] = 0.5\n",
    "        else:\n",
    "            for i in range(len(normalized_data)):\n",
    "                normalized_data[i][col] = (data_list[i][col] - min_val) / (max_val - min_val)\n",
    "\n",
    "    return normalized_data"
   ]
  },
  {
   "cell_type": "code",
   "execution_count": null,
   "id": "a4ac0de5-f290-4060-8207-c1e492bba091",
   "metadata": {},
   "outputs": [
    {
     "name": "stdout",
     "output_type": "stream",
     "text": [
      "Accuracy: 96.74%\n"
     ]
    }
   ],
   "source": [
    "def knn(k=3, data_file=\"wdbc.data.mb.csv\"):\n",
    "    predictions = []\n",
    "\n",
    "    dataframe = pd.read_csv(data_file, header=None)\n",
    "    df_list = dataframe.values.tolist()\n",
    "\n",
    "    normalized_df = normalize_minmax(df_list)\n",
    "    training_set, test_set = split_sets(normalized_df, 0.7)\n",
    "\n",
    "    for test in test_set:\n",
    "        distances = []\n",
    "        for training_instance in training_set:\n",
    "            dist = compute_dist(test, training_instance)\n",
    "            heapq.heappush(distances, (dist, training_instance))\n",
    "\n",
    "        neighbors = heapq.nsmallest(k, distances)\n",
    "\n",
    "        malignant = 0\n",
    "        benign = 0\n",
    "        for dist, neighbor_instance in neighbors:\n",
    "            if neighbor_instance[-1] == 1:\n",
    "                malignant += 1\n",
    "            else:\n",
    "                benign += 1\n",
    "\n",
    "        classification = 1 if malignant >= benign else -1\n",
    "        predictions.append(classification == test[-1])\n",
    "\n",
    "    return predictions\n",
    "\n",
    "results = knn(3)\n",
    "accuracy = sum(results) / len(results)\n",
    "print(f\"Accuracy: {accuracy:.2%}\")"
   ]
  },
  {
   "cell_type": "code",
   "execution_count": 8,
   "id": "a9d506f9-f0f0-42e2-af76-b793b0973660",
   "metadata": {},
   "outputs": [
    {
     "name": "stdout",
     "output_type": "stream",
     "text": [
      "Accuracy: 96.74%\n"
     ]
    }
   ],
   "source": [
    "results = knn(3)\n",
    "accuracy = sum(results) / len(results)\n",
    "print(f\"Accuracy: {accuracy:.2%}\")"
   ]
  }
 ],
 "metadata": {
  "kernelspec": {
   "display_name": "Python 3",
   "language": "python",
   "name": "python3"
  },
  "language_info": {
   "codemirror_mode": {
    "name": "ipython",
    "version": 3
   },
   "file_extension": ".py",
   "mimetype": "text/x-python",
   "name": "python",
   "nbconvert_exporter": "python",
   "pygments_lexer": "ipython3",
   "version": "3.11.3"
  }
 },
 "nbformat": 4,
 "nbformat_minor": 5
}
